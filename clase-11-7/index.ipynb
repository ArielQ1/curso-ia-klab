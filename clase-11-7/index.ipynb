{
 "cells": [
  {
   "cell_type": "code",
   "execution_count": 1,
   "id": "f2bf0970",
   "metadata": {},
   "outputs": [
    {
     "name": "stdout",
     "output_type": "stream",
     "text": [
      "   Id  SepalLengthCm  SepalWidthCm  PetalLengthCm  PetalWidthCm      Species\n",
      "0   1            5.1           3.5            1.4           0.2  Iris-setosa\n",
      "1   2            4.9           3.0            1.4           0.2  Iris-setosa\n",
      "2   3            4.7           3.2            1.3           0.2  Iris-setosa\n",
      "3   4            4.6           3.1            1.5           0.2  Iris-setosa\n",
      "4   5            5.0           3.6            1.4           0.2  Iris-setosa\n"
     ]
    }
   ],
   "source": [
    "import pandas as pd\n",
    "datos = pd.read_csv('./Iris.csv')\n",
    "print(datos.head())"
   ]
  },
  {
   "cell_type": "code",
   "execution_count": 3,
   "id": "c548fe6e",
   "metadata": {},
   "outputs": [
    {
     "name": "stdout",
     "output_type": "stream",
     "text": [
      "[[5.1 3.5 1.4 0.2]\n",
      " [4.9 3.  1.4 0.2]\n",
      " [4.7 3.2 1.3 0.2]\n",
      " [4.6 3.1 1.5 0.2]\n",
      " [5.  3.6 1.4 0.2]\n",
      " [5.4 3.9 1.7 0.4]\n",
      " [4.6 3.4 1.4 0.3]\n",
      " [5.  3.4 1.5 0.2]\n",
      " [4.4 2.9 1.4 0.2]\n",
      " [4.9 3.1 1.5 0.1]\n",
      " [5.4 3.7 1.5 0.2]\n",
      " [4.8 3.4 1.6 0.2]\n",
      " [4.8 3.  1.4 0.1]\n",
      " [4.3 3.  1.1 0.1]\n",
      " [5.8 4.  1.2 0.2]\n",
      " [5.7 4.4 1.5 0.4]\n",
      " [5.4 3.9 1.3 0.4]\n",
      " [5.1 3.5 1.4 0.3]\n",
      " [5.7 3.8 1.7 0.3]\n",
      " [5.1 3.8 1.5 0.3]\n",
      " [5.4 3.4 1.7 0.2]\n",
      " [5.1 3.7 1.5 0.4]\n",
      " [4.6 3.6 1.  0.2]\n",
      " [5.1 3.3 1.7 0.5]\n",
      " [4.8 3.4 1.9 0.2]\n",
      " [5.  3.  1.6 0.2]\n",
      " [5.  3.4 1.6 0.4]\n",
      " [5.2 3.5 1.5 0.2]\n",
      " [5.2 3.4 1.4 0.2]\n",
      " [4.7 3.2 1.6 0.2]\n",
      " [4.8 3.1 1.6 0.2]\n",
      " [5.4 3.4 1.5 0.4]\n",
      " [5.2 4.1 1.5 0.1]\n",
      " [5.5 4.2 1.4 0.2]\n",
      " [4.9 3.1 1.5 0.2]\n",
      " [5.  3.2 1.2 0.2]\n",
      " [5.5 3.5 1.3 0.2]\n",
      " [4.9 3.6 1.4 0.1]\n",
      " [4.4 3.  1.3 0.2]\n",
      " [5.1 3.4 1.5 0.2]\n",
      " [5.  3.5 1.3 0.3]\n",
      " [4.5 2.3 1.3 0.3]\n",
      " [4.4 3.2 1.3 0.2]\n",
      " [5.  3.5 1.6 0.6]\n",
      " [5.1 3.8 1.9 0.4]\n",
      " [4.8 3.  1.4 0.3]\n",
      " [5.1 3.8 1.6 0.2]\n",
      " [4.6 3.2 1.4 0.2]\n",
      " [5.3 3.7 1.5 0.2]\n",
      " [5.  3.3 1.4 0.2]\n",
      " [7.  3.2 4.7 1.4]\n",
      " [6.4 3.2 4.5 1.5]\n",
      " [6.9 3.1 4.9 1.5]\n",
      " [5.5 2.3 4.  1.3]\n",
      " [6.5 2.8 4.6 1.5]\n",
      " [5.7 2.8 4.5 1.3]\n",
      " [6.3 3.3 4.7 1.6]\n",
      " [4.9 2.4 3.3 1. ]\n",
      " [6.6 2.9 4.6 1.3]\n",
      " [5.2 2.7 3.9 1.4]\n",
      " [5.  2.  3.5 1. ]\n",
      " [5.9 3.  4.2 1.5]\n",
      " [6.  2.2 4.  1. ]\n",
      " [6.1 2.9 4.7 1.4]\n",
      " [5.6 2.9 3.6 1.3]\n",
      " [6.7 3.1 4.4 1.4]\n",
      " [5.6 3.  4.5 1.5]\n",
      " [5.8 2.7 4.1 1. ]\n",
      " [6.2 2.2 4.5 1.5]\n",
      " [5.6 2.5 3.9 1.1]\n",
      " [5.9 3.2 4.8 1.8]\n",
      " [6.1 2.8 4.  1.3]\n",
      " [6.3 2.5 4.9 1.5]\n",
      " [6.1 2.8 4.7 1.2]\n",
      " [6.4 2.9 4.3 1.3]\n",
      " [6.6 3.  4.4 1.4]\n",
      " [6.8 2.8 4.8 1.4]\n",
      " [6.7 3.  5.  1.7]\n",
      " [6.  2.9 4.5 1.5]\n",
      " [5.7 2.6 3.5 1. ]\n",
      " [5.5 2.4 3.8 1.1]\n",
      " [5.5 2.4 3.7 1. ]\n",
      " [5.8 2.7 3.9 1.2]\n",
      " [6.  2.7 5.1 1.6]\n",
      " [5.4 3.  4.5 1.5]\n",
      " [6.  3.4 4.5 1.6]\n",
      " [6.7 3.1 4.7 1.5]\n",
      " [6.3 2.3 4.4 1.3]\n",
      " [5.6 3.  4.1 1.3]\n",
      " [5.5 2.5 4.  1.3]\n",
      " [5.5 2.6 4.4 1.2]\n",
      " [6.1 3.  4.6 1.4]\n",
      " [5.8 2.6 4.  1.2]\n",
      " [5.  2.3 3.3 1. ]\n",
      " [5.6 2.7 4.2 1.3]\n",
      " [5.7 3.  4.2 1.2]\n",
      " [5.7 2.9 4.2 1.3]\n",
      " [6.2 2.9 4.3 1.3]\n",
      " [5.1 2.5 3.  1.1]\n",
      " [5.7 2.8 4.1 1.3]\n",
      " [6.3 3.3 6.  2.5]\n",
      " [5.8 2.7 5.1 1.9]\n",
      " [7.1 3.  5.9 2.1]\n",
      " [6.3 2.9 5.6 1.8]\n",
      " [6.5 3.  5.8 2.2]\n",
      " [7.6 3.  6.6 2.1]\n",
      " [4.9 2.5 4.5 1.7]\n",
      " [7.3 2.9 6.3 1.8]\n",
      " [6.7 2.5 5.8 1.8]\n",
      " [7.2 3.6 6.1 2.5]\n",
      " [6.5 3.2 5.1 2. ]\n",
      " [6.4 2.7 5.3 1.9]\n",
      " [6.8 3.  5.5 2.1]\n",
      " [5.7 2.5 5.  2. ]\n",
      " [5.8 2.8 5.1 2.4]\n",
      " [6.4 3.2 5.3 2.3]\n",
      " [6.5 3.  5.5 1.8]\n",
      " [7.7 3.8 6.7 2.2]\n",
      " [7.7 2.6 6.9 2.3]\n",
      " [6.  2.2 5.  1.5]\n",
      " [6.9 3.2 5.7 2.3]\n",
      " [5.6 2.8 4.9 2. ]\n",
      " [7.7 2.8 6.7 2. ]\n",
      " [6.3 2.7 4.9 1.8]\n",
      " [6.7 3.3 5.7 2.1]\n",
      " [7.2 3.2 6.  1.8]\n",
      " [6.2 2.8 4.8 1.8]\n",
      " [6.1 3.  4.9 1.8]\n",
      " [6.4 2.8 5.6 2.1]\n",
      " [7.2 3.  5.8 1.6]\n",
      " [7.4 2.8 6.1 1.9]\n",
      " [7.9 3.8 6.4 2. ]\n",
      " [6.4 2.8 5.6 2.2]\n",
      " [6.3 2.8 5.1 1.5]\n",
      " [6.1 2.6 5.6 1.4]\n",
      " [7.7 3.  6.1 2.3]\n",
      " [6.3 3.4 5.6 2.4]\n",
      " [6.4 3.1 5.5 1.8]\n",
      " [6.  3.  4.8 1.8]\n",
      " [6.9 3.1 5.4 2.1]\n",
      " [6.7 3.1 5.6 2.4]\n",
      " [6.9 3.1 5.1 2.3]\n",
      " [5.8 2.7 5.1 1.9]\n",
      " [6.8 3.2 5.9 2.3]\n",
      " [6.7 3.3 5.7 2.5]\n",
      " [6.7 3.  5.2 2.3]\n",
      " [6.3 2.5 5.  1.9]\n",
      " [6.5 3.  5.2 2. ]\n",
      " [6.2 3.4 5.4 2.3]\n",
      " [5.9 3.  5.1 1.8]]\n",
      "[0 0 0 0 0 0 0 0 0 0 0 0 0 0 0 0 0 0 0 0 0 0 0 0 0 0 0 0 0 0 0 0 0 0 0 0 0\n",
      " 0 0 0 0 0 0 0 0 0 0 0 0 0 1 1 1 1 1 1 1 1 1 1 1 1 1 1 1 1 1 1 1 1 1 1 1 1\n",
      " 1 1 1 1 1 1 1 1 1 1 1 1 1 1 1 1 1 1 1 1 1 1 1 1 1 1 2 2 2 2 2 2 2 2 2 2 2\n",
      " 2 2 2 2 2 2 2 2 2 2 2 2 2 2 2 2 2 2 2 2 2 2 2 2 2 2 2 2 2 2 2 2 2 2 2 2 2\n",
      " 2 2]\n"
     ]
    }
   ],
   "source": [
    "from sklearn.datasets import load_iris\n",
    "iris = load_iris()\n",
    "x = iris.data\n",
    "y = iris.target\n",
    "print(x)\n",
    "print(y)"
   ]
  },
  {
   "cell_type": "code",
   "execution_count": null,
   "id": "d1478a6d",
   "metadata": {},
   "outputs": [
    {
     "name": "stdout",
     "output_type": "stream",
     "text": [
      "[0 0 2 0 2 1 1 2 0 1 1 0 2 0 2 1 2 2 1 0 2 0 1 1 2 0 0 1 1 0 0 0 0 2 1 1 0\n",
      " 0 0 2 1 1 2 2 2 1 1 2 1 2 1 1 2 2 2 0 1 2 2 1 1 1 1 2 2 0 0 1 1 2 0 1 2 1\n",
      " 0 0 0 2 0 1 0 1 1 0 2 0 1 1 2 0 0 2 2 2 0 0 0 0 1 0 2 1 2 0 0]\n",
      "[1 1 1 2 0 1 0 2 1 2 0 0 0 1 0 1 2 2 1 2 1 1 0 2 2 0 0 0 0 0 0 0 2 0 1 0 1\n",
      " 1 1 1 2 1 0 0 1 1 0 0 1 2 0 2 2 1 1 0 2 2 2 2 2 0 1 1 0 1 1 0 0 0 1 1 1 1\n",
      " 1 1 2 2 2 1 2 0 0 1 1 2 2 2 0 1 0 1 2 2 2 0 2 2 2 1 2 1 2 0 0]\n",
      "[0 1 0 1 2 0 2 1 1 2 1 0 0 2 0 0 1 0 1 2 2 2 0 2 2 2 1 2 1 1 0 1 2 2 2 1 0\n",
      " 2 2 0 2 0 2 0 2 2 1 1 0 0 1 2 0 0 2 1 2 2 0 2 0 1 1 1 1 1 2 1 2 0 0 1 1 2\n",
      " 1 2 0 2 0 1 2 1 1 2 0 0 0 1 0 1 2 2 2 1 0 1 1 0 1 1 0 2 0 2 0]\n",
      "[0 2 1 2 1 0 2 0 1 2 0 0 2 0 0 0 2 0 1 1 1 2 1 2 0 0 0 2 2 1 1 2 2 0 1 0 1\n",
      " 2 1 1 1 2 0 0 1 0 0 2 2 1 0 2 0 1 2 2 2 1 2 2 0 2 2 2 0 1 0 2 2 1 1 2 2 1\n",
      " 1 0 0 0 1 0 0 2 0 0 2 2 0 1 2 2 1 0 2 2 1 0 1 0 0 2 1 2 1 2 2]\n",
      "[2 2 2 2 2 2 1 2 2 1 0 0 0 0 1 0 2 1 0 0 1 1 1 2 1 0 2 0 1 2 1 0 2 2 2 0 2\n",
      " 2 0 1 2 0 1 2 1 0 1 0 1 2 0 2 0 1 0 2 0 0 0 2 2 2 2 1 2 2 2 2 1 0 0 0 0 1\n",
      " 1 0 2 1 2 2 0 1 0 1 1 2 1 1 1 0 2 2 0 1 0 1 0 0 0 0 0 1 2 1 2]\n"
     ]
    }
   ],
   "source": [
    "from sklearn.model_selection import train_test_split\n",
    "from sklearn.datasets import load_iris\n",
    "iris = load_iris()\n",
    "x = iris.data\n",
    "y = iris.target\n",
    "for i in range(5):\n",
    "    x_train, x_test, y_train, y_test = train_test_split(x, y, test_size=0.7)\n",
    "    # print(x_train.shape, x_test.shape)\n",
    "    print(y_test)\n"
   ]
  },
  {
   "cell_type": "code",
   "execution_count": 11,
   "id": "9cae8c62",
   "metadata": {},
   "outputs": [
    {
     "name": "stdout",
     "output_type": "stream",
     "text": [
      "[0 0]\n",
      "[2 1 2 2 1 2 1 2 2 1 0 0 0 0 1 0 2 1 0 0 1 1 1 2 1 0 2 0 1 2 1 0 2 2 2 0 1\n",
      " 2 0 1 2 0 1 2 2 0 1 0 1 2 0 2 0 1 0 2 0 0 0 2 2 2 1 1 2 1 2 2 1 0 0 0 0 1\n",
      " 1 0 2 1 1 2 0 1 0 1 1 2 1 1 1 0 2 2 0 1 0 1 0 0 0 0 0 1 1 1 1]\n",
      "[2 2 2 2 2 2 1 2 2 1 0 0 0 0 1 0 2 1 0 0 1 1 1 2 1 0 2 0 1 2 1 0 2 2 2 0 2\n",
      " 2 0 1 2 0 1 2 1 0 1 0 1 2 0 2 0 1 0 2 0 0 0 2 2 2 2 1 2 2 2 2 1 0 0 0 0 1\n",
      " 1 0 2 1 2 2 0 1 0 1 1 2 1 1 1 0 2 2 0 1 0 1 0 0 0 0 0 1 2 1 2]\n"
     ]
    }
   ],
   "source": [
    "from sklearn.tree import DecisionTreeClassifier\n",
    "clasificador = DecisionTreeClassifier(random_state=42)\n",
    "clasificador.fit(x_train, y_train)\n",
    "# Prueba General por el usuario\n",
    "print(clasificador.predict([[5.4,3.4,1.7,0.2], [5.1, 3.7, 1.5, 0.4]]))\n",
    "# Consulta con los datos de testeo\n",
    "print(clasificador.predict(x_test))\n",
    "print(y_test)"
   ]
  },
  {
   "cell_type": "code",
   "execution_count": 12,
   "id": "d31c9bb2",
   "metadata": {},
   "outputs": [
    {
     "name": "stdout",
     "output_type": "stream",
     "text": [
      "[[36  0  0]\n",
      " [ 0 30  1]\n",
      " [ 0  8 30]]\n"
     ]
    }
   ],
   "source": [
    "from sklearn.metrics import confusion_matrix\n",
    "y_response = clasificador.predict(x_test)\n",
    "print(confusion_matrix(y_test, y_response))"
   ]
  },
  {
   "cell_type": "code",
   "execution_count": 13,
   "id": "4fcabb03",
   "metadata": {},
   "outputs": [
    {
     "name": "stdout",
     "output_type": "stream",
     "text": [
      "0.9142857142857143\n"
     ]
    }
   ],
   "source": [
    "from sklearn.metrics import accuracy_score\n",
    "print(accuracy_score(y_test, y_response))"
   ]
  },
  {
   "cell_type": "code",
   "execution_count": 17,
   "id": "606b17c4",
   "metadata": {},
   "outputs": [
    {
     "name": "stdout",
     "output_type": "stream",
     "text": [
      "[0.8952380952380953, 0.9238095238095239, 0.9238095238095239, 0.8952380952380953, 0.8857142857142857, 0.780952380952381, 0.9809523809523809, 0.9809523809523809, 0.9238095238095239, 0.9428571428571428, 0.8761904761904762, 0.9904761904761905, 0.9047619047619048, 0.9333333333333333, 0.9047619047619048, 0.9047619047619048, 0.9238095238095239, 0.8380952380952381, 0.8380952380952381, 0.8952380952380953, 0.8952380952380953, 0.9238095238095239, 0.9523809523809523, 0.8285714285714286, 0.9523809523809523, 0.8285714285714286, 0.9142857142857143, 0.8857142857142857, 0.9714285714285714, 0.9523809523809523, 0.9142857142857143, 0.9333333333333333, 0.8952380952380953, 0.9047619047619048, 0.8476190476190476, 0.8857142857142857, 0.9619047619047619, 0.9047619047619048, 0.8476190476190476, 0.8666666666666667, 0.9238095238095239, 0.9047619047619048, 0.9809523809523809, 0.9428571428571428, 0.9142857142857143, 0.8857142857142857, 0.9809523809523809, 0.9047619047619048, 0.9333333333333333, 0.8571428571428571, 0.8952380952380953, 0.8476190476190476, 0.9238095238095239, 0.9523809523809523, 0.9333333333333333, 0.9047619047619048, 0.9333333333333333, 0.9142857142857143, 0.9904761904761905, 0.9142857142857143, 0.9142857142857143, 0.9619047619047619, 0.9238095238095239, 0.8952380952380953, 0.9238095238095239, 0.9142857142857143, 0.9428571428571428, 0.9714285714285714, 0.9428571428571428, 0.9809523809523809, 0.9428571428571428, 0.9619047619047619, 0.9047619047619048, 0.9428571428571428, 0.9333333333333333, 0.9047619047619048, 0.9047619047619048, 0.8380952380952381, 0.8761904761904762, 0.9333333333333333, 0.8285714285714286, 0.9809523809523809, 0.9238095238095239, 0.9333333333333333, 0.9142857142857143, 0.9047619047619048, 0.9047619047619048, 0.8761904761904762, 0.9523809523809523, 0.8380952380952381, 0.9047619047619048, 0.9333333333333333, 0.9428571428571428, 0.9047619047619048, 0.9523809523809523, 0.9142857142857143, 0.9047619047619048, 0.8095238095238095, 0.8761904761904762, 0.9238095238095239]\n",
      "0.9128571428571429\n"
     ]
    }
   ],
   "source": [
    "import numpy as np\n",
    "from sklearn.preprocessing import Normalizer\n",
    "\n",
    "preprocesamiento = Normalizer()\n",
    "x = preprocesamiento.fit_transform(x)\n",
    "acuary = []\n",
    "for i in range(100):\n",
    "    x_train, x_test, y_train, y_test = train_test_split(x, y, test_size=0.7)\n",
    "    clasificador = DecisionTreeClassifier(random_state=42)\n",
    "    clasificador.fit(x_train, y_train)\n",
    "    y_response = clasificador.predict(x_test)\n",
    "    acuary.append(accuracy_score(y_test, y_response))\n",
    "print(acuary)\n",
    "print(np.mean(acuary))"
   ]
  },
  {
   "cell_type": "code",
   "execution_count": 28,
   "id": "33fd72ea",
   "metadata": {},
   "outputs": [
    {
     "name": "stdout",
     "output_type": "stream",
     "text": [
      "Index(['edad'], dtype='object')\n",
      "Index(['edad'], dtype='object')\n",
      "------------------- Completando con la media -------------------\n",
      "    edad genero   cabello\n",
      "0     25      f     corto\n",
      "1     30      m     largo\n",
      "2     22     nb  ondulado\n",
      "3     28      f    teñido\n",
      "4     35      m    rapado\n",
      "5     40     nb     calvo\n",
      "6     27      f  ondulado\n",
      "7     32      m    teñido\n",
      "8     24     nb    rapado\n",
      "9     29      f     calvo\n",
      "10    31      m  ondulado\n",
      "11    26     nb    teñido\n",
      "12    33      f    rapado\n",
      "13    23      m     calvo\n",
      "------------------- Completando con la moda -------------------\n",
      "    edad genero   cabello\n",
      "0     25      f     corto\n",
      "1     30      m     largo\n",
      "2     22     nb  ondulado\n",
      "3     28      f    teñido\n",
      "4     35      m    rapado\n",
      "5     40     nb     calvo\n",
      "6     27      f  ondulado\n",
      "7     32      m    teñido\n",
      "8     24     nb    rapado\n",
      "9     29      f     calvo\n",
      "10    31      m  ondulado\n",
      "11    26     nb    teñido\n",
      "12    33      f    rapado\n",
      "13    23      m     calvo\n"
     ]
    },
    {
     "name": "stderr",
     "output_type": "stream",
     "text": [
      "/tmp/ipykernel_2844/406385528.py:17: FutureWarning: A value is trying to be set on a copy of a DataFrame or Series through chained assignment using an inplace method.\n",
      "The behavior will change in pandas 3.0. This inplace method will never work because the intermediate object on which we are setting values always behaves as a copy.\n",
      "\n",
      "For example, when doing 'df[col].method(value, inplace=True)', try using 'df.method({col: value}, inplace=True)' or df[col] = df[col].method(value) instead, to perform the operation inplace on the original object.\n",
      "\n",
      "\n",
      "  df[col].fillna(media, inplace=True)\n",
      "/tmp/ipykernel_2844/406385528.py:24: FutureWarning: A value is trying to be set on a copy of a DataFrame or Series through chained assignment using an inplace method.\n",
      "The behavior will change in pandas 3.0. This inplace method will never work because the intermediate object on which we are setting values always behaves as a copy.\n",
      "\n",
      "For example, when doing 'df[col].method(value, inplace=True)', try using 'df.method({col: value}, inplace=True)' or df[col] = df[col].method(value) instead, to perform the operation inplace on the original object.\n",
      "\n",
      "\n",
      "  df[col].fillna(moda, inplace=True)\n"
     ]
    }
   ],
   "source": [
    "from sklearn.impute import SimpleImputer\n",
    "import pandas as pd\n",
    "datos2 = pd.read_csv('./datos.csv')\n",
    "\n",
    "# print(datos2[\"genero\"])\n",
    "# print(datos2[\"edad\"])\n",
    "\n",
    "columnasnum = datos2.select_dtypes(include=['number']).columns\n",
    "columnascad = datos2.select_dtypes(include=['object']).columns\n",
    "print(columnasnum)\n",
    "print(columnasnum)\n",
    "\n",
    "def completa_media(df): \n",
    "    columnas = datos2.select_dtypes(include=['number']).columns\n",
    "    for col in columnas:\n",
    "        media = df[col].mean()\n",
    "        df[col].fillna(media, inplace=True)\n",
    "    return df\n",
    "\n",
    "def completa_moda(df): \n",
    "    columnas = datos2.select_dtypes(include=['object']).columns\n",
    "    for col in columnas:\n",
    "        moda = df[col].mode()[0]\n",
    "        df[col].fillna(moda, inplace=True)\n",
    "    return df\n",
    "print(\"------------------- Completando con la media -------------------\")\n",
    "datos3 = completa_media(datos2)\n",
    "print(datos3)\n",
    "print(\"------------------- Completando con la moda -------------------\")\n",
    "datos4 = completa_moda(datos3)\n",
    "print(datos4)\n"
   ]
  }
 ],
 "metadata": {
  "kernelspec": {
   "display_name": "Python 3",
   "language": "python",
   "name": "python3"
  },
  "language_info": {
   "codemirror_mode": {
    "name": "ipython",
    "version": 3
   },
   "file_extension": ".py",
   "mimetype": "text/x-python",
   "name": "python",
   "nbconvert_exporter": "python",
   "pygments_lexer": "ipython3",
   "version": "3.12.1"
  }
 },
 "nbformat": 4,
 "nbformat_minor": 5
}
